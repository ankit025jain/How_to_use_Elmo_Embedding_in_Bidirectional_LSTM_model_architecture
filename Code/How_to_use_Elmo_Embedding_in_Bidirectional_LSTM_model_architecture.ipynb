{
 "cells": [
  {
   "cell_type": "code",
   "execution_count": 0,
   "metadata": {
    "colab": {},
    "colab_type": "code",
    "id": "YiMb4awrQkc3"
   },
   "outputs": [],
   "source": [
    "import numpy as np\n",
    "import pandas as pd\n",
    "from sklearn import metrics\n",
    "from tqdm import tqdm\n",
    "import spacy\n",
    "# import en_core_web_lg\n",
    "\n",
    "import nltk\n",
    "# nltk.download('wordnet')\n",
    "\n",
    "from collections import Counter, defaultdict\n",
    "\n",
    "from nltk.tokenize import word_tokenize\n",
    "from nltk import pos_tag\n",
    "\n",
    "from collections import defaultdict\n",
    "from nltk.corpus import wordnet as wn\n",
    "from tqdm import tqdm\n",
    "\n",
    "nlp = spacy.load('en')\n",
    "\n",
    "from spacy import displacy\n",
    "import en_core_web_sm\n",
    "\n",
    "import re\n",
    "\n",
    "from nltk.stem import WordNetLemmatizer\n",
    "from nltk.corpus import wordnet\n",
    "\n",
    "# nlp = spacy.load('en_core_web_lg', parse=True, tag=True, entity=True)"
   ]
  },
  {
   "cell_type": "code",
   "execution_count": 0,
   "metadata": {
    "colab": {},
    "colab_type": "code",
    "id": "-PGiN8R_Qq97"
   },
   "outputs": [],
   "source": [
    "#load the dataset\n",
    "\n",
    "trainDf = pd.read_csv(\"./Dataset/train.csv\",encoding = \"utf-8\")"
   ]
  },
  {
   "cell_type": "code",
   "execution_count": 5,
   "metadata": {
    "colab": {
     "base_uri": "https://localhost:8080/",
     "height": 204
    },
    "colab_type": "code",
    "executionInfo": {
     "elapsed": 6033,
     "status": "ok",
     "timestamp": 1580705567293,
     "user": {
      "displayName": "Ankit Jain",
      "photoUrl": "https://lh6.googleusercontent.com/-a-1r0i_PPs4/AAAAAAAAAAI/AAAAAAAAeVM/0XlUjdgVQms/s64/photo.jpg",
      "userId": "15822926619468396085"
     },
     "user_tz": -330
    },
    "id": "QmhICvzAQ9vB",
    "outputId": "0581dc88-4068-49d8-ae8f-66420e1981ca"
   },
   "outputs": [
    {
     "data": {
      "text/html": [
       "<div>\n",
       "<style scoped>\n",
       "    .dataframe tbody tr th:only-of-type {\n",
       "        vertical-align: middle;\n",
       "    }\n",
       "\n",
       "    .dataframe tbody tr th {\n",
       "        vertical-align: top;\n",
       "    }\n",
       "\n",
       "    .dataframe thead th {\n",
       "        text-align: right;\n",
       "    }\n",
       "</style>\n",
       "<table border=\"1\" class=\"dataframe\">\n",
       "  <thead>\n",
       "    <tr style=\"text-align: right;\">\n",
       "      <th></th>\n",
       "      <th>ID</th>\n",
       "      <th>reviewText</th>\n",
       "      <th>overall</th>\n",
       "    </tr>\n",
       "  </thead>\n",
       "  <tbody>\n",
       "    <tr>\n",
       "      <th>0</th>\n",
       "      <td>1</td>\n",
       "      <td>These are so wonderful to have in the car in t...</td>\n",
       "      <td>5</td>\n",
       "    </tr>\n",
       "    <tr>\n",
       "      <th>1</th>\n",
       "      <td>2</td>\n",
       "      <td>XL fits perfect on me over armored riding jack...</td>\n",
       "      <td>5</td>\n",
       "    </tr>\n",
       "    <tr>\n",
       "      <th>2</th>\n",
       "      <td>3</td>\n",
       "      <td>Since I had just noticed my wiper blades neede...</td>\n",
       "      <td>3</td>\n",
       "    </tr>\n",
       "    <tr>\n",
       "      <th>3</th>\n",
       "      <td>4</td>\n",
       "      <td>I am very satisfied with G110v2.  It is comfor...</td>\n",
       "      <td>5</td>\n",
       "    </tr>\n",
       "    <tr>\n",
       "      <th>4</th>\n",
       "      <td>5</td>\n",
       "      <td>This amp did a good job for its rating. It was...</td>\n",
       "      <td>3</td>\n",
       "    </tr>\n",
       "  </tbody>\n",
       "</table>\n",
       "</div>"
      ],
      "text/plain": [
       "   ID                                         reviewText  overall\n",
       "0   1  These are so wonderful to have in the car in t...        5\n",
       "1   2  XL fits perfect on me over armored riding jack...        5\n",
       "2   3  Since I had just noticed my wiper blades neede...        3\n",
       "3   4  I am very satisfied with G110v2.  It is comfor...        5\n",
       "4   5  This amp did a good job for its rating. It was...        3"
      ]
     },
     "execution_count": 5,
     "metadata": {
      "tags": []
     },
     "output_type": "execute_result"
    }
   ],
   "source": [
    "trainDf.head()"
   ]
  },
  {
   "cell_type": "code",
   "execution_count": 6,
   "metadata": {
    "colab": {
     "base_uri": "https://localhost:8080/",
     "height": 85
    },
    "colab_type": "code",
    "executionInfo": {
     "elapsed": 5834,
     "status": "ok",
     "timestamp": 1580705567293,
     "user": {
      "displayName": "Ankit Jain",
      "photoUrl": "https://lh6.googleusercontent.com/-a-1r0i_PPs4/AAAAAAAAAAI/AAAAAAAAeVM/0XlUjdgVQms/s64/photo.jpg",
      "userId": "15822926619468396085"
     },
     "user_tz": -330
    },
    "id": "1ta5Evi_WKeP",
    "outputId": "c240bade-1fc0-4383-a5c1-5ec499617d65"
   },
   "outputs": [
    {
     "data": {
      "text/plain": [
       "ID             0\n",
       "reviewText    26\n",
       "overall        0\n",
       "dtype: int64"
      ]
     },
     "execution_count": 6,
     "metadata": {
      "tags": []
     },
     "output_type": "execute_result"
    }
   ],
   "source": [
    "trainDf.isna().sum()"
   ]
  },
  {
   "cell_type": "code",
   "execution_count": 0,
   "metadata": {
    "colab": {},
    "colab_type": "code",
    "id": "8D-Q4Q2BWL5f"
   },
   "outputs": [],
   "source": [
    "cleanup_re = re.compile('[^a-zA-Z]+')\n",
    "\n",
    "def cleanup(sentence):\n",
    "    sentence = str(sentence)\n",
    "    sentence = re.sub(r'\\s+',' ',sentence) #\\s is for white spaces\n",
    "    sentence = re.sub('[\\d]','',sentence)  #\\d is for digits\n",
    "    #sentence = sentence.lower()\n",
    "    sentence = cleanup_re.sub(' ', sentence).strip()\n",
    "    #sentence = \" \".join(nltk.word_tokenize(sentence))\n",
    "    return sentence\n",
    "\n",
    "trainDf[\"text\"] = trainDf[\"reviewText\"].apply(cleanup)"
   ]
  },
  {
   "cell_type": "code",
   "execution_count": 0,
   "metadata": {
    "colab": {},
    "colab_type": "code",
    "id": "LuTXe3QRWNjJ"
   },
   "outputs": [],
   "source": [
    "trainDf['text'].dropna(inplace=True)"
   ]
  },
  {
   "cell_type": "code",
   "execution_count": 9,
   "metadata": {
    "colab": {
     "base_uri": "https://localhost:8080/",
     "height": 34
    },
    "colab_type": "code",
    "executionInfo": {
     "elapsed": 10800,
     "status": "ok",
     "timestamp": 1580705572829,
     "user": {
      "displayName": "Ankit Jain",
      "photoUrl": "https://lh6.googleusercontent.com/-a-1r0i_PPs4/AAAAAAAAAAI/AAAAAAAAeVM/0XlUjdgVQms/s64/photo.jpg",
      "userId": "15822926619468396085"
     },
     "user_tz": -330
    },
    "id": "5-Io4fTMWgiV",
    "outputId": "eb7be11b-1625-48e4-bd26-17152d8fafd3"
   },
   "outputs": [
    {
     "data": {
      "text/plain": [
       "(77075, 4)"
      ]
     },
     "execution_count": 9,
     "metadata": {
      "tags": []
     },
     "output_type": "execute_result"
    }
   ],
   "source": [
    "trainDf.shape"
   ]
  },
  {
   "cell_type": "code",
   "execution_count": 0,
   "metadata": {
    "colab": {},
    "colab_type": "code",
    "id": "1aGjK_i6Wu98"
   },
   "outputs": [],
   "source": [
    "contractions = {\n",
    "\"ain't\": \"is not\",\n",
    "\"aren't\": \"are not\",\n",
    "\"can't\": \"cannot\",\n",
    "\"can't've\": \"cannot have\",\n",
    "\"'cause\": \"because\",\n",
    "\"could've\": \"could have\",\n",
    "\"couldn't\": \"could not\",\n",
    "\"couldn't've\": \"could not have\",\n",
    "\"didn't\": \"did not\",\n",
    "\"didnt\": \"did not\",\n",
    "\"doesn't\": \"does not\",\n",
    "\"don't\": \"do not\",\n",
    "\"hadn't\": \"had not\",\n",
    "\"hadn't've\": \"had not have\",\n",
    "\"hasn't\": \"has not\",\n",
    "\"haven't\": \"have not\",\n",
    "\"he'd\": \"he would\",\n",
    "\"he'd've\": \"he would have\",\n",
    "\"he'll\": \"he will\",\n",
    "\"he'll've\": \"he he will have\",\n",
    "\"he's\": \"he is\",\n",
    "\"how'd\": \"how did\",\n",
    "\"how'd'y\": \"how do you\",\n",
    "\"how'll\": \"how will\",\n",
    "\"how's\": \"how is\",\n",
    "\"I'd\": \"I would\",\n",
    "\"I'd've\": \"I would have\",\n",
    "\"I'll\": \"I will\",\n",
    "\"I'll've\": \"I will have\",\n",
    "\"I'm\": \"I am\",\n",
    "\"I've\": \"I have\",\n",
    "\"i'd\": \"i would\",\n",
    "\"i'd've\": \"i would have\",\n",
    "\"i'll\": \"i will\",\n",
    "\"i'll've\": \"i will have\",\n",
    "\"i'm\": \"i am\",\n",
    "\"i've\": \"i have\",\n",
    "\"isn't\": \"is not\",\n",
    "\"it'd\": \"it would\",\n",
    "\"it'd've\": \"it would have\",\n",
    "\"it'll\": \"it will\",\n",
    "\"it'll've\": \"it will have\",\n",
    "\"it's\": \"it is\",\n",
    "\"let's\": \"let us\",\n",
    "\"ma'am\": \"madam\",\n",
    "\"mayn't\": \"may not\",\n",
    "\"might've\": \"might have\",\n",
    "\"mightn't\": \"might not\",\n",
    "\"mightn't've\": \"might not have\",\n",
    "\"must've\": \"must have\",\n",
    "\"mustn't\": \"must not\",\n",
    "\"mustn't've\": \"must not have\",\n",
    "\"needn't\": \"need not\",\n",
    "\"needn't've\": \"need not have\",\n",
    "\"o'clock\": \"of the clock\",\n",
    "\"oughtn't\": \"ought not\",\n",
    "\"oughtn't've\": \"ought not have\",\n",
    "\"shan't\": \"shall not\",\n",
    "\"sha'n't\": \"shall not\",\n",
    "\"shan't've\": \"shall not have\",\n",
    "\"she'd\": \"she would\",\n",
    "\"she'd've\": \"she would have\",\n",
    "\"she'll\": \"she will\",\n",
    "\"she'll've\": \"she will have\",\n",
    "\"she's\": \"she is\",\n",
    "\"should've\": \"should have\",\n",
    "\"shouldn't\": \"should not\",\n",
    "\"shouldn't've\": \"should not have\",\n",
    "\"so've\": \"so have\",\n",
    "\"so's\": \"so as\",\n",
    "\"that'd\": \"that would\",\n",
    "\"that'd've\": \"that would have\",\n",
    "\"that's\": \"that is\",\n",
    "\"there'd\": \"there would\",\n",
    "\"there'd've\": \"there would have\",\n",
    "\"there's\": \"there is\",\n",
    "\"they'd\": \"they would\",\n",
    "\"they'd've\": \"they would have\",\n",
    "\"they'll\": \"they will\",\n",
    "\"they'll've\": \"they will have\",\n",
    "\"they're\": \"they are\",\n",
    "\"they've\": \"they have\",\n",
    "\"to've\": \"to have\",\n",
    "\"wasn't\": \"was not\",\n",
    "\"we'd\": \"we would\",\n",
    "\"we'd've\": \"we would have\",\n",
    "\"we'll\": \"we will\",\n",
    "\"we'll've\": \"we will have\",\n",
    "\"we're\": \"we are\",\n",
    "\"we've\": \"we have\",\n",
    "\"weren't\": \"were not\",\n",
    "\"what'll\": \"what will\",\n",
    "\"what'll've\": \"what will have\",\n",
    "\"what're\": \"what are\",\n",
    "\"what's\": \"what is\",\n",
    "\"what've\": \"what have\",\n",
    "\"when's\": \"when is\",\n",
    "\"when've\": \"when have\",\n",
    "\"where'd\": \"where did\",\n",
    "\"where's\": \"where is\",\n",
    "\"where've\": \"where have\",\n",
    "\"who'll\": \"who will\",\n",
    "\"who'll've\": \"who will have\",\n",
    "\"who's\": \"who is\",\n",
    "\"who've\": \"who have\",\n",
    "\"why's\": \"why is\",\n",
    "\"why've\": \"why have\",\n",
    "\"will've\": \"will have\",\n",
    "\"won't\": \"will not\",\n",
    "\"won't've\": \"will not have\",\n",
    "\"would've\": \"would have\",\n",
    "\"wouldve\": \"would have\",\n",
    "\"wouldn't\": \"would not\",\n",
    "\"wouldn't've\": \"would not have\",\n",
    "\"y'all\": \"you all\",\n",
    "\"y'all'd\": \"you all would\",\n",
    "\"y'all'd've\": \"you all would have\",\n",
    "\"y'all're\": \"you all are\",\n",
    "\"y'all've\": \"you all have\",\n",
    "\"you'd\": \"you would\",\n",
    "\"you'd've\": \"you would have\",\n",
    "\"you'll\": \"you will\",\n",
    "\"you'll've\": \"you will have\",\n",
    "\"you're\": \"you are\",\n",
    "\"youre\": \"you are\",\n",
    "\"you've\": \"you have\",\n",
    "\"inroom\": \"in room\"\n",
    "\n",
    "}"
   ]
  },
  {
   "cell_type": "code",
   "execution_count": 0,
   "metadata": {
    "colab": {},
    "colab_type": "code",
    "id": "cFcQ_M3NW525"
   },
   "outputs": [],
   "source": [
    "def expand_contractions(text):\n",
    "    for word in text.split():\n",
    "        if word in contractions:\n",
    "            text = text.replace(word, contractions[word])\n",
    "    return text"
   ]
  },
  {
   "cell_type": "code",
   "execution_count": 12,
   "metadata": {
    "colab": {
     "base_uri": "https://localhost:8080/",
     "height": 54
    },
    "colab_type": "code",
    "executionInfo": {
     "elapsed": 11458,
     "status": "ok",
     "timestamp": 1580705574064,
     "user": {
      "displayName": "Ankit Jain",
      "photoUrl": "https://lh6.googleusercontent.com/-a-1r0i_PPs4/AAAAAAAAAAI/AAAAAAAAeVM/0XlUjdgVQms/s64/photo.jpg",
      "userId": "15822926619468396085"
     },
     "user_tz": -330
    },
    "id": "voW6PIBLW8Cg",
    "outputId": "1e13698e-6eb5-4c63-ec3f-70481796a9aa"
   },
   "outputs": [
    {
     "data": {
      "text/plain": [
       "'I was surprised and delighted with this excellent Norwegian riff on the found footage genre This time we have all the clips from a student s documentary on trolls put in chronologically order Shot in verit eacute style in the vein of films like CLOVERFIELD TROLLHUNTER follows three persistent Norwegian film students as they travel to a remote mountain region in hopes of capturing a real life troll on camera a creature whose existence has been understandably covered up for decades by the local government They claim there s nothing to worry about it s just a problem with bears making trouble in the more remote mountains and forests of Norway Yes there have been attacks Local hunters and the film students don t believe the disinformation and their determination pays off when they stalk a shadowy poacher and finally get him to agree to let them record his hunt their encounters wit the fearsome giants and the troll hunter s heroics This is the coolest monster movie I ve seen in a long time Having to read the English subtitles while listening to the Norwegian sound track only added to the verisimilitude The beautiful cinematography makes ample use of strikingly beautiful sometimes frozen Norwegian locations This entertaining and sometimes funny movie was written and directed by Andr eacute vredal Although everyone including Andr eacute is an unknown to US audiences I understand the Otto Jespersen the wonderful actor who plays the dour troll hunter is a well known satiric comedian in Norway The creature effects are top notch and I even felt kind of sorry for the fearsome deformed gigantic dumb mutant trolls who are the last of their mythic breed Among the several extras including a director s commentary there s an interesting but too brief but fascinating featurette that shows the steps and wire frame schematics required to insert the seamless lumbering fearsome pitiable digital trolls into the action'"
      ]
     },
     "execution_count": 12,
     "metadata": {
      "tags": []
     },
     "output_type": "execute_result"
    }
   ],
   "source": [
    "trainDf['text'] = [expand_contractions(re.sub('’', \"'\", text)) for text in trainDf['text']]\n",
    "trainDf['text'][166]"
   ]
  },
  {
   "cell_type": "code",
   "execution_count": 0,
   "metadata": {
    "colab": {},
    "colab_type": "code",
    "id": "hqM5FPUfXG64"
   },
   "outputs": [],
   "source": [
    "# Define function to handle accented characters\n",
    "import unicodedata\n",
    "def remove_accented_chars(text):\n",
    "    text = unicodedata.normalize('NFKD', text).encode('ascii', 'ignore').decode('utf-8', 'ignore')\n",
    "    #https://docs.python.org/2/library/unicodedata.html\n",
    "    return text"
   ]
  },
  {
   "cell_type": "code",
   "execution_count": 0,
   "metadata": {
    "colab": {},
    "colab_type": "code",
    "id": "2SAic7W8XJzn"
   },
   "outputs": [],
   "source": [
    "trainDf['text'] = [remove_accented_chars(text) for text in trainDf['text']]"
   ]
  },
  {
   "cell_type": "code",
   "execution_count": 0,
   "metadata": {
    "colab": {},
    "colab_type": "code",
    "id": "gJXv8CyRXP7m"
   },
   "outputs": [],
   "source": [
    "from sklearn.model_selection import train_test_split\n",
    "#split the dataset intro training an dvalidation datasets\n",
    "\n",
    "X_train, X_test, y_train, y_test = train_test_split(trainDf['text'], trainDf['overall'], test_size = 0.30)"
   ]
  },
  {
   "cell_type": "code",
   "execution_count": 16,
   "metadata": {
    "colab": {
     "base_uri": "https://localhost:8080/",
     "height": 85
    },
    "colab_type": "code",
    "executionInfo": {
     "elapsed": 10596,
     "status": "ok",
     "timestamp": 1580705574067,
     "user": {
      "displayName": "Ankit Jain",
      "photoUrl": "https://lh6.googleusercontent.com/-a-1r0i_PPs4/AAAAAAAAAAI/AAAAAAAAeVM/0XlUjdgVQms/s64/photo.jpg",
      "userId": "15822926619468396085"
     },
     "user_tz": -330
    },
    "id": "czokyTiuXm3z",
    "outputId": "d5357167-9ef9-4d57-d67d-774af1cee2f9"
   },
   "outputs": [
    {
     "name": "stdout",
     "output_type": "stream",
     "text": [
      "(53952,)\n",
      "(53952,)\n",
      "(23123,)\n",
      "(23123,)\n"
     ]
    }
   ],
   "source": [
    "print(X_train.shape)\n",
    "print(y_train.shape)\n",
    "print(X_test.shape)\n",
    "print(y_test.shape)"
   ]
  },
  {
   "cell_type": "code",
   "execution_count": 17,
   "metadata": {
    "colab": {
     "base_uri": "https://localhost:8080/",
     "height": 63
    },
    "colab_type": "code",
    "executionInfo": {
     "elapsed": 8618,
     "status": "ok",
     "timestamp": 1580705420245,
     "user": {
      "displayName": "Ankit Jain",
      "photoUrl": "https://lh6.googleusercontent.com/-a-1r0i_PPs4/AAAAAAAAAAI/AAAAAAAAeVM/0XlUjdgVQms/s64/photo.jpg",
      "userId": "15822926619468396085"
     },
     "user_tz": -330
    },
    "id": "zOxpZWE7Xunr",
    "outputId": "e55a871a-ce2b-4ca5-8166-1a25b8097947"
   },
   "outputs": [
    {
     "data": {
      "text/html": [
       "<p style=\"color: red;\">\n",
       "The default version of TensorFlow in Colab will soon switch to TensorFlow 2.x.<br>\n",
       "We recommend you <a href=\"https://www.tensorflow.org/guide/migrate\" target=\"_blank\">upgrade</a> now \n",
       "or ensure your notebook will continue to use TensorFlow 1.x via the <code>%tensorflow_version 1.x</code> magic:\n",
       "<a href=\"https://colab.research.google.com/notebooks/tensorflow_version.ipynb\" target=\"_blank\">more info</a>.</p>\n"
      ],
      "text/plain": [
       "<IPython.core.display.HTML object>"
      ]
     },
     "metadata": {
      "tags": []
     },
     "output_type": "display_data"
    }
   ],
   "source": [
    "import tensorflow_hub as hub\n",
    "import tensorflow as tf\n",
    "\n",
    "elmo = hub.Module(\"https://tfhub.dev/google/elmo/3\", trainable=True)"
   ]
  },
  {
   "cell_type": "code",
   "execution_count": 18,
   "metadata": {
    "colab": {
     "base_uri": "https://localhost:8080/",
     "height": 68
    },
    "colab_type": "code",
    "executionInfo": {
     "elapsed": 5410,
     "status": "ok",
     "timestamp": 1580705420891,
     "user": {
      "displayName": "Ankit Jain",
      "photoUrl": "https://lh6.googleusercontent.com/-a-1r0i_PPs4/AAAAAAAAAAI/AAAAAAAAeVM/0XlUjdgVQms/s64/photo.jpg",
      "userId": "15822926619468396085"
     },
     "user_tz": -330
    },
    "id": "dPHyytOcYBno",
    "outputId": "7ffbdc5b-cdeb-4a66-ad77-36508d17e40f"
   },
   "outputs": [
    {
     "name": "stdout",
     "output_type": "stream",
     "text": [
      "INFO:tensorflow:Saver not created because there are no variables in the graph to restore\n"
     ]
    },
    {
     "name": "stderr",
     "output_type": "stream",
     "text": [
      "INFO:tensorflow:Saver not created because there are no variables in the graph to restore\n"
     ]
    },
    {
     "data": {
      "text/plain": [
       "TensorShape([Dimension(1), Dimension(31), Dimension(1024)])"
      ]
     },
     "execution_count": 18,
     "metadata": {
      "tags": []
     },
     "output_type": "execute_result"
    }
   ],
   "source": [
    "# Statement that we used on the top\n",
    "sample_statement = [\"Jack while talking over the cell phone entered the prison cell to extract blood cell samples of Jill and made an entry in the excel cell about the blood sample collection.\"]\n",
    "# Extract ELMo features \n",
    "embeddings = elmo(sample_statement, signature=\"default\", as_dict=True)[\"elmo\"]\n",
    "embeddings.shape"
   ]
  },
  {
   "cell_type": "code",
   "execution_count": 19,
   "metadata": {
    "colab": {
     "base_uri": "https://localhost:8080/",
     "height": 1000
    },
    "colab_type": "code",
    "executionInfo": {
     "elapsed": 4004,
     "status": "ok",
     "timestamp": 1580705422306,
     "user": {
      "displayName": "Ankit Jain",
      "photoUrl": "https://lh6.googleusercontent.com/-a-1r0i_PPs4/AAAAAAAAAAI/AAAAAAAAeVM/0XlUjdgVQms/s64/photo.jpg",
      "userId": "15822926619468396085"
     },
     "user_tz": -330
    },
    "id": "NCtRVyILYD4f",
    "outputId": "f4ce559f-9f53-47cb-b5ff-704f98b735ab"
   },
   "outputs": [
    {
     "name": "stderr",
     "output_type": "stream",
     "text": [
      "Using TensorFlow backend.\n"
     ]
    },
    {
     "name": "stdout",
     "output_type": "stream",
     "text": [
      "INFO:tensorflow:Saver not created because there are no variables in the graph to restore\n"
     ]
    },
    {
     "name": "stderr",
     "output_type": "stream",
     "text": [
      "INFO:tensorflow:Saver not created because there are no variables in the graph to restore\n"
     ]
    },
    {
     "name": "stdout",
     "output_type": "stream",
     "text": [
      "WARNING:tensorflow:From /usr/local/lib/python3.6/dist-packages/tensorflow_core/python/ops/init_ops.py:97: calling GlorotUniform.__init__ (from tensorflow.python.ops.init_ops) with dtype is deprecated and will be removed in a future version.\n",
      "Instructions for updating:\n",
      "Call initializer instance with the dtype argument instead of passing it to the constructor\n"
     ]
    },
    {
     "name": "stderr",
     "output_type": "stream",
     "text": [
      "WARNING:tensorflow:From /usr/local/lib/python3.6/dist-packages/tensorflow_core/python/ops/init_ops.py:97: calling GlorotUniform.__init__ (from tensorflow.python.ops.init_ops) with dtype is deprecated and will be removed in a future version.\n",
      "Instructions for updating:\n",
      "Call initializer instance with the dtype argument instead of passing it to the constructor\n"
     ]
    },
    {
     "name": "stdout",
     "output_type": "stream",
     "text": [
      "WARNING:tensorflow:From /usr/local/lib/python3.6/dist-packages/tensorflow_core/python/ops/init_ops.py:97: calling Orthogonal.__init__ (from tensorflow.python.ops.init_ops) with dtype is deprecated and will be removed in a future version.\n",
      "Instructions for updating:\n",
      "Call initializer instance with the dtype argument instead of passing it to the constructor\n"
     ]
    },
    {
     "name": "stderr",
     "output_type": "stream",
     "text": [
      "WARNING:tensorflow:From /usr/local/lib/python3.6/dist-packages/tensorflow_core/python/ops/init_ops.py:97: calling Orthogonal.__init__ (from tensorflow.python.ops.init_ops) with dtype is deprecated and will be removed in a future version.\n",
      "Instructions for updating:\n",
      "Call initializer instance with the dtype argument instead of passing it to the constructor\n"
     ]
    },
    {
     "name": "stdout",
     "output_type": "stream",
     "text": [
      "WARNING:tensorflow:From /usr/local/lib/python3.6/dist-packages/tensorflow_core/python/ops/init_ops.py:97: calling Zeros.__init__ (from tensorflow.python.ops.init_ops) with dtype is deprecated and will be removed in a future version.\n",
      "Instructions for updating:\n",
      "Call initializer instance with the dtype argument instead of passing it to the constructor\n"
     ]
    },
    {
     "name": "stderr",
     "output_type": "stream",
     "text": [
      "WARNING:tensorflow:From /usr/local/lib/python3.6/dist-packages/tensorflow_core/python/ops/init_ops.py:97: calling Zeros.__init__ (from tensorflow.python.ops.init_ops) with dtype is deprecated and will be removed in a future version.\n",
      "Instructions for updating:\n",
      "Call initializer instance with the dtype argument instead of passing it to the constructor\n"
     ]
    },
    {
     "name": "stdout",
     "output_type": "stream",
     "text": [
      "WARNING:tensorflow:From /usr/local/lib/python3.6/dist-packages/tensorflow_core/python/ops/resource_variable_ops.py:1630: calling BaseResourceVariable.__init__ (from tensorflow.python.ops.resource_variable_ops) with constraint is deprecated and will be removed in a future version.\n",
      "Instructions for updating:\n",
      "If using Keras pass *_constraint arguments to layers.\n"
     ]
    },
    {
     "name": "stderr",
     "output_type": "stream",
     "text": [
      "WARNING:tensorflow:From /usr/local/lib/python3.6/dist-packages/tensorflow_core/python/ops/resource_variable_ops.py:1630: calling BaseResourceVariable.__init__ (from tensorflow.python.ops.resource_variable_ops) with constraint is deprecated and will be removed in a future version.\n",
      "Instructions for updating:\n",
      "If using Keras pass *_constraint arguments to layers.\n"
     ]
    },
    {
     "name": "stdout",
     "output_type": "stream",
     "text": [
      "Model: \"BiLSTM with ELMO Embeddings\"\n",
      "_________________________________________________________________\n",
      "Layer (type)                 Output Shape              Param #   \n",
      "=================================================================\n",
      "Input_layer (InputLayer)     [(None, 1)]               0         \n",
      "_________________________________________________________________\n",
      "Elmo_Embedding (Lambda)      (None, None, 1024)        0         \n",
      "_________________________________________________________________\n",
      "BiLSTM (Bidirectional)       (None, 4)                 16432     \n",
      "_________________________________________________________________\n",
      "dense (Dense)                (None, 16)                80        \n",
      "_________________________________________________________________\n",
      "dropout (Dropout)            (None, 16)                0         \n",
      "_________________________________________________________________\n",
      "dense_1 (Dense)              (None, 8)                 136       \n",
      "_________________________________________________________________\n",
      "dropout_1 (Dropout)          (None, 8)                 0         \n",
      "_________________________________________________________________\n",
      "dense_2 (Dense)              (None, 1)                 9         \n",
      "=================================================================\n",
      "Total params: 16,657\n",
      "Trainable params: 16,657\n",
      "Non-trainable params: 0\n",
      "_________________________________________________________________\n",
      "WARNING:tensorflow:From /usr/local/lib/python3.6/dist-packages/tensorflow_core/python/ops/nn_impl.py:183: where (from tensorflow.python.ops.array_ops) is deprecated and will be removed in a future version.\n",
      "Instructions for updating:\n",
      "Use tf.where in 2.0, which has the same broadcast rule as np.where\n"
     ]
    },
    {
     "name": "stderr",
     "output_type": "stream",
     "text": [
      "WARNING:tensorflow:From /usr/local/lib/python3.6/dist-packages/tensorflow_core/python/ops/nn_impl.py:183: where (from tensorflow.python.ops.array_ops) is deprecated and will be removed in a future version.\n",
      "Instructions for updating:\n",
      "Use tf.where in 2.0, which has the same broadcast rule as np.where\n"
     ]
    }
   ],
   "source": [
    "from tensorflow.keras.layers import Input, Lambda, Bidirectional, Dense, Dropout,LSTM\n",
    "from tensorflow.keras.models import Model\n",
    "from keras import backend as K\n",
    "def ELMoEmbedding(input_text):\n",
    "    return elmo(tf.reshape(tf.cast(input_text, tf.string), [-1]), signature=\"default\", as_dict=True)[\"elmo\"]\n",
    "def build_model():\n",
    "    input_layer = Input(shape=(1,), dtype=\"string\", name=\"Input_layer\")\n",
    "    embedding_layer = Lambda(ELMoEmbedding, output_shape=(1024, ), name=\"Elmo_Embedding\")(input_layer)\n",
    "    BiLSTM = Bidirectional(LSTM(2, return_sequences= False, recurrent_dropout=0.2, dropout=0.2), name=\"BiLSTM\")(embedding_layer)\n",
    "    Dense_layer_1 = Dense(16, activation='relu')(BiLSTM)\n",
    "    Dropout_layer_1 = Dropout(0.5)(Dense_layer_1)\n",
    "    Dense_layer_2 = Dense(8, activation='relu')(Dropout_layer_1)\n",
    "    Dropout_layer_2 = Dropout(0.5)(Dense_layer_2)\n",
    "    output_layer = Dense(1, activation='sigmoid')(Dropout_layer_2)\n",
    "    model = Model(inputs=[input_layer], outputs=output_layer, name=\"BiLSTM with ELMO Embeddings\")\n",
    "    model.summary()\n",
    "    model.compile(loss='binary_crossentropy',optimizer='adam',metrics=['accuracy'])\n",
    "    return model\n",
    "elmo_BiDirectional_model = build_model()"
   ]
  },
  {
   "cell_type": "code",
   "execution_count": 0,
   "metadata": {
    "colab": {
     "base_uri": "https://localhost:8080/",
     "height": 34
    },
    "colab_type": "code",
    "id": "1EyHv0KtYHGn",
    "outputId": "0be96ef3-9ed0-421a-f903-fc6429785f17"
   },
   "outputs": [
    {
     "name": "stdout",
     "output_type": "stream",
     "text": [
      "Train on 53952 samples\n"
     ]
    }
   ],
   "source": [
    "with tf.Session() as session:\n",
    " K.set_session(session)\n",
    " session.run(tf.global_variables_initializer()) \n",
    " session.run(tf.tables_initializer())\n",
    " model_elmo = elmo_BiDirectional_model.fit(X_train, y_train, epochs=1, batch_size=1024)\n",
    " train_prediction = elmo_BiDirectional_model.predict(X_train)\n",
    " #model_elmo.save_weights('./model_elmo_neural_network_weights.h5')\n"
   ]
  },
  {
   "cell_type": "code",
   "execution_count": 0,
   "metadata": {
    "colab": {},
    "colab_type": "code",
    "id": "8LuRIBk2Yejk"
   },
   "outputs": [],
   "source": [
    "# Accuracy\n",
    "train_prediction = train_prediction.argmax(axis=-1)\n",
    "\n",
    "metrics.accuracy_score(train_prediction, y_train)"
   ]
  },
  {
   "cell_type": "code",
   "execution_count": 0,
   "metadata": {
    "colab": {},
    "colab_type": "code",
    "id": "-MsMtLcLCXlY"
   },
   "outputs": [],
   "source": []
  }
 ],
 "metadata": {
  "accelerator": "TPU",
  "colab": {
   "collapsed_sections": [],
   "machine_shape": "hm",
   "name": "How_to_use_Elmo_Embedding_in_Bidirectional_LSTM_model_architecture.ipynb",
   "provenance": [],
   "toc_visible": true
  },
  "kernelspec": {
   "display_name": "Python 3",
   "language": "python",
   "name": "python3"
  },
  "language_info": {
   "codemirror_mode": {
    "name": "ipython",
    "version": 3
   },
   "file_extension": ".py",
   "mimetype": "text/x-python",
   "name": "python",
   "nbconvert_exporter": "python",
   "pygments_lexer": "ipython3",
   "version": "3.7.4"
  }
 },
 "nbformat": 4,
 "nbformat_minor": 1
}
